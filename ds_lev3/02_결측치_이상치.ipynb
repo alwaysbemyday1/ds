{
 "cells": [
  {
   "cell_type": "code",
   "execution_count": 1,
   "metadata": {},
   "outputs": [],
   "source": [
    "import pandas as pd\n",
    "\n",
    "# 결측치 데이터\n",
    "df_titanic = pd.read_csv('data/titanic.csv')\n",
    "# 이상치 데이터\n",
    "df_berry = pd.read_csv('data/wild_blueberry.csv')"
   ]
  },
  {
   "cell_type": "code",
   "execution_count": null,
   "metadata": {},
   "outputs": [],
   "source": [
    "df_titanic.info()"
   ]
  },
  {
   "cell_type": "code",
   "execution_count": null,
   "metadata": {},
   "outputs": [],
   "source": [
    "df_blueberry.info()"
   ]
  },
  {
   "cell_type": "markdown",
   "metadata": {},
   "source": [
    "### 1. 결측치 처리"
   ]
  },
  {
   "cell_type": "markdown",
   "metadata": {},
   "source": [
    "##### (1) 결측 레코드 제거\n",
    "처리는 쉽지만 정보손실 동반"
   ]
  },
  {
   "cell_type": "code",
   "execution_count": null,
   "metadata": {},
   "outputs": [],
   "source": [
    "df_titanic.dropna() # 이렇게 해서는 실제로 Dataframe에 반영은 안 됨\n",
    "df_titanic.dropna(inplace=True) # 실제로 반영하기 위해서는 이처럼 inplace=True를 dropna에 전달하거나\n",
    "df_titanic = df_titanic.dropna() # 이처럼 대입을 해야함"
   ]
  },
  {
   "cell_type": "code",
   "execution_count": null,
   "metadata": {},
   "outputs": [],
   "source": [
    "df_titanic.dropna().isna().sum().to_frame().T"
   ]
  },
  {
   "cell_type": "markdown",
   "metadata": {},
   "source": [
    "##### (2) 단순 대체\n",
    "- 범주형 데이터\n",
    "\n",
    "    결측 자체도 하나의 범주값으로 보고, 결측을 의미하는 범주를 생성하여 대체"
   ]
  },
  {
   "cell_type": "markdown",
   "metadata": {},
   "source": [
    "##### Q1\n",
    "Embarked의 결측치를 살펴보고 처리하기 데이터"
   ]
  },
  {
   "cell_type": "code",
   "execution_count": null,
   "metadata": {},
   "outputs": [],
   "source": [
    "# Mine (Wrong)\n",
    "df_titanic = df_titanic[df_titanic['Embarked'].isna()]['Embarked'].apply(\n",
    "    lambda x: \"Unknown\"\n",
    ")"
   ]
  },
  {
   "cell_type": "code",
   "execution_count": null,
   "metadata": {},
   "outputs": [],
   "source": [
    "# Lectures'\n",
    "df_titanic['Embarked'].unique()"
   ]
  },
  {
   "cell_type": "code",
   "execution_count": null,
   "metadata": {},
   "outputs": [],
   "source": [
    "# pd.Series.fillna를 통해 결측치 대체 가능\n",
    "df_titanic['Embarked'] = df_titanic['Embarked'].fillna(\"Unkonwn\")"
   ]
  },
  {
   "cell_type": "code",
   "execution_count": null,
   "metadata": {},
   "outputs": [],
   "source": [
    "df_titanic['Embarked'].value_counts() # value_counts 실행 시 na 값은 안 보임"
   ]
  },
  {
   "cell_type": "markdown",
   "metadata": {},
   "source": [
    "- 최빈값으로 대체"
   ]
  },
  {
   "cell_type": "markdown",
   "metadata": {},
   "source": [
    "##### Q2\n",
    "\n",
    "Cabin은 복수의 요소로 구성이 되어 있고, 공백으로 구분되어 있습니다.\n",
    "\n",
    "이 중 맨 처음 나오는 Cabin만 남깁니다.\n",
    "\n",
    "앞자리 알파벳을 Cabin_Type, 그리고 뒷자리 숫자는 Cabin_No로 나누어 파생 변수를 만듭니다.\n",
    "\n",
    "Cabin_Type을 Pclass 별로 Cabin_Type의 최빈값으로 대체합니다.\n",
    "\n",
    "만일 동수가 등장할 경우 사전순으로 앞에 있는 것으로 대체합니다."
   ]
  },
  {
   "cell_type": "code",
   "execution_count": null,
   "metadata": {},
   "outputs": [],
   "source": [
    "# 이 중 맨 처음 나오는 Cabin만 남깁니다.\n",
    "# 앞자리 알파벳을 Cabin_Type, 그리고 뒷자리 숫자는 Cabin_No로 나누어 파생 변수를 만듭니다.\n",
    "df_titanic[['Cabin_Type', 'Cabin_No']] = df_titanic['Cabin'][df_titanic['Cabin'].notna()]\\\n",
    "    .apply(\n",
    "        lambda x: x.split(' ')[0]\n",
    "    )\\\n",
    "    .apply(\n",
    "        lambda x: pd.Series([x[:1], x[1:]], index=['Cabin_Type', 'Cabin_No'])\n",
    "    )"
   ]
  },
  {
   "cell_type": "code",
   "execution_count": null,
   "metadata": {},
   "outputs": [],
   "source": [
    "df_titanic.groupby(['Pclass', 'Cabin_Type'])['Cabin_Type'].count()"
   ]
  },
  {
   "cell_type": "code",
   "execution_count": null,
   "metadata": {},
   "outputs": [],
   "source": [
    "df_titanic['Cabin_Type'].mode().sort_values().iloc[0]"
   ]
  },
  {
   "cell_type": "code",
   "execution_count": null,
   "metadata": {},
   "outputs": [],
   "source": [
    "df_titanic.groupby('Pclass')['Cabin_Type'].agg(\n",
    "    lambda x: x.mode().sort_values().iloc[0]\n",
    ")"
   ]
  },
  {
   "cell_type": "code",
   "execution_count": null,
   "metadata": {},
   "outputs": [],
   "source": [
    "df_titanic['Cabin_Type'].fillna(\n",
    "    df_titanic.groupby('Pclass')['Cabin_Type'].transform(\n",
    "       lambda x: x.mode().sort_values().iloc[0]\n",
    "    )\n",
    ")"
   ]
  },
  {
   "cell_type": "code",
   "execution_count": null,
   "metadata": {},
   "outputs": [],
   "source": [
    "# Cabin_Type을 Pclass 별로 Cabin_Type의 최빈값으로 대체합니다.\n",
    "# 만일 동수가 등장할 경우 사전순으로 앞에 있는 것으로 대체합니다.\n",
    "df_titanic['Cabin_Type'] = df_titanic.groupby('Pclass')['Cabin_Type'].transform(\n",
    "    lambda x: x.fillna(x.mode().sort_values().iloc[0])\n",
    ")"
   ]
  },
  {
   "cell_type": "markdown",
   "metadata": {},
   "source": [
    "- 수치형 데이터\n",
    "\n",
    "    i) 중심 통계량(평균, 중앙값, 최빈값)으로 대체"
   ]
  },
  {
   "cell_type": "code",
   "execution_count": null,
   "metadata": {},
   "outputs": [],
   "source": [
    "df_titanic['Age'] = df_titanic['Age'].fillna(df_titanic['Age'].mean())"
   ]
  },
  {
   "cell_type": "markdown",
   "metadata": {},
   "source": [
    "\n",
    "    ii) 보간법(Interpolation)\n",
    "    \n",
    "        순서가 있는 데이터(시간, 위치)의 경우 앞, 뒤 값을 활용해 결측치를 대체"
   ]
  },
  {
   "cell_type": "code",
   "execution_count": null,
   "metadata": {},
   "outputs": [],
   "source": [
    "# 샘플 데이터를 만듭니다.\n",
    "s = pd.Series([1, np.nan, np.nan, 7], index=[1, 2.5, 3, 4])\n",
    "\n",
    "fig, axes = plt.subplots(1, 2, figsize=(12, 4))\n",
    "# 결측이 아닌 두점을 잇는 선을 그립니다.\n",
    "# linear: x 값은 고려하지 않고, 등간격이라는 가정하에 선형 보간을 합니다.\n",
    "# index: index의 값이 x값이라고 가정하고 선형 보간을 합니다.\n",
    "for i, ax in zip(['linear', 'index'], axes):\n",
    "    ax.plot(s.loc[s.notna()])\n",
    "\n",
    "    # 결측이 아닌 값을 찍습니다.\n",
    "    s.loc[s.notna()].pipe(\n",
    "        lambda x: ax.scatter(x=x.index, y=x.values, color='red', label='not missing')\n",
    "    )\n",
    "    # 결측인 값을 보간한 값을 찍습니다.\n",
    "    s.interpolate(method=i).loc[s.isna()].pipe(\n",
    "        lambda x: ax.scatter(x=x.index, y=x.values, color='blue', label='interpolated')\n",
    "    )\n",
    "\n",
    "    ax.legend()\n",
    "    ax.set_xlabel('x')\n",
    "    ax.set_ylabel('y')\n",
    "    ax.set_title(\"label=\" + i)\n",
    "plt.tight_layout()\n",
    "plt.show()"
   ]
  },
  {
   "cell_type": "markdown",
   "metadata": {},
   "source": [
    "- Regression\n",
    "\n",
    "    다른 변수를 이용하여 결측치를 예측하는 모델을 만들어, 모델의 예측값으로 결측치을 대체합니다."
   ]
  },
  {
   "cell_type": "markdown",
   "metadata": {},
   "source": [
    "##### Q3\n",
    "<div style=\"border: 1px solid #ddd; padding: 12px; margin-top: 10px;\">\n",
    "\n",
    "'Age'의 결측값을 'Pclass', 'Sex', 'SibSp', 'Parch', 'Fare', 'Embarked' 를 이용하여 예측 모델을 만들어 예측치로 결측값을 대체합니다.\n",
    "\n",
    "예측 모델은 Random Forest Regression 모델로 하고, Pclass, Sex, Embarked는 가변수화 합니다. 나머지 입력값은 그대로 모델에 사용합니다.\n",
    "\n",
    "</div>"
   ]
  },
  {
   "cell_type": "code",
   "execution_count": null,
   "metadata": {},
   "outputs": [],
   "source": [
    "# 전처리 단계의 출력을 바로 모델에 전달 될 수 있도록 make_pipeline을 사용하여 Pipeline을 구성토록 합니다.\n",
    "from sklearn.pipeline import make_pipeline\n",
    "# ColumnTranformer를 사용하여 변수별 전처리 과정을 설정할 수 있도록 합니다.\n",
    "from sklearn.compose import ColumnTransformer\n",
    "# 가변수 처리기를 가져옵니다.\n",
    "from sklearn.preprocessing import OneHotEncoder\n",
    "from sklearn.ensemble import RandomForestRegressor\n",
    "\n",
    "# Embarked는 최빈값으로 결측을 처리합니다.\n",
    "df_titanic['Embarked'] = df_titanic['Embarked'].fillna(df_titanic['Embarked'].mode().iloc[0])\n",
    "\n",
    "# OneHotEncoder는 Pclass, Sex, Embarked\n",
    "# SibSp, Parch, Fare는 처리 없이 통과 시킵니다.\n",
    "ct = ColumnTransformer([\n",
    "    ('ohe', OneHotEncoder(), ['Pclass', 'Sex', 'Embarked']), # (이름, 처리기, 처리 대상 변수)\n",
    "    ('pt', 'passthrough', ['SibSp', 'Parch', 'Fare'])\n",
    "])\n",
    "\n",
    "reg_rf = make_pipeline(\n",
    "    ct,\n",
    "    RandomForestRegressor(\n",
    "        n_estimators=100, # RandomForest에서 사용할 의사 결정 나무의 수를 100개로 합니다.\n",
    "        random_state=123) # random_state에 값을 지정하여 실행시 동일한 결과를 얻게 설정합니다.\n",
    ")\n",
    "X_rf = ['Pclass', 'Sex', 'Embarked', 'SibSp', 'Parch', 'Fare'] # 입력변수 리스트 입니다.\n",
    "# Regression 토픽에 중심을 두겠습니다: 모델에 대한 검증은 생략하고 바로 학습을 합니다.\n",
    "\n",
    "df_titanic.loc[df_titanic['Age'].notna()].pipe(\n",
    "    lambda x: reg_rf.fit(x[X_rf],  x['Age'])\n",
    ") # 모델을 학습시킵니다.\n",
    "\"\"\"\n",
    "위 루틴과 동일한 루틴입니다. \n",
    "위 구문은 아래 구문에 df_titaninc['Age'].notna()로 필터링 2회 했던 것을 pipe를 통해 줄여낸 것입니다.\n",
    "reg_rf.fit(\n",
    "    df_titanic.loc[df_titanic['Age'].notna(), X_rf], \n",
    "    df_titanic.loc[df_titanic['Age'].notna(),'Age']\n",
    ") \n",
    "\"\"\"\n",
    "\n",
    "# 결측값에 예측 결과를 적용합니다.\n",
    "df_titanic.loc[df_titanic['Age'].isna(), 'Age'] = \\\n",
    "    reg_rf.predict(df_titanic.loc[df_titanic['Age'].isna(), X_rf])"
   ]
  },
  {
   "cell_type": "markdown",
   "metadata": {},
   "source": [
    "## 2. 이상치 처리\n",
    "IQR(Inter Quantile Range)을 통한 이상치 판별"
   ]
  },
  {
   "cell_type": "markdown",
   "metadata": {},
   "source": [
    "- 이상치 제거\n",
    "\n",
    "    이상치로 판단한 데이터를 제거"
   ]
  },
  {
   "cell_type": "markdown",
   "metadata": {},
   "source": [
    "##### Q4\n",
    "\n",
    "<div style=\"border: 1px solid #ddd; padding: 12px; margin-top: 10px;\">\n",
    "\n",
    "df_berry 셋의 fruitset, fruitmass, seeds 가\n",
    "\n",
    "각 변수별로 $Q_1$, $Q_3$, $IQR$을 구하여, 이상치 여부를 판별합니다.\n",
    "\n",
    "> $Q_1 - 1.5×IQR ≤X≤ Q_3 + 1.5×IQR$\n",
    "\n",
    "이중에 하나라도 이상치라면 제거하여 df_berry2셋을 만듭니다.\n",
    "    \n",
    "</div>"
   ]
  },
  {
   "cell_type": "code",
   "execution_count": 11,
   "metadata": {},
   "outputs": [
    {
     "data": {
      "text/html": [
       "<div>\n",
       "<style scoped>\n",
       "    .dataframe tbody tr th:only-of-type {\n",
       "        vertical-align: middle;\n",
       "    }\n",
       "\n",
       "    .dataframe tbody tr th {\n",
       "        vertical-align: top;\n",
       "    }\n",
       "\n",
       "    .dataframe thead th {\n",
       "        text-align: right;\n",
       "    }\n",
       "</style>\n",
       "<table border=\"1\" class=\"dataframe\">\n",
       "  <thead>\n",
       "    <tr style=\"text-align: right;\">\n",
       "      <th></th>\n",
       "      <th>Q1</th>\n",
       "      <th>Q3</th>\n",
       "      <th>IQR</th>\n",
       "      <th>LB</th>\n",
       "      <th>UB</th>\n",
       "    </tr>\n",
       "  </thead>\n",
       "  <tbody>\n",
       "    <tr>\n",
       "      <th>fruitset</th>\n",
       "      <td>0.454725</td>\n",
       "      <td>0.561297</td>\n",
       "      <td>0.106571</td>\n",
       "      <td>0.294868</td>\n",
       "      <td>0.721153</td>\n",
       "    </tr>\n",
       "    <tr>\n",
       "      <th>fruitmass</th>\n",
       "      <td>0.416281</td>\n",
       "      <td>0.476149</td>\n",
       "      <td>0.059869</td>\n",
       "      <td>0.326478</td>\n",
       "      <td>0.565952</td>\n",
       "    </tr>\n",
       "    <tr>\n",
       "      <th>seeds</th>\n",
       "      <td>33.116091</td>\n",
       "      <td>39.239668</td>\n",
       "      <td>6.123577</td>\n",
       "      <td>23.930726</td>\n",
       "      <td>48.425033</td>\n",
       "    </tr>\n",
       "  </tbody>\n",
       "</table>\n",
       "</div>"
      ],
      "text/plain": [
       "                  Q1         Q3       IQR         LB         UB\n",
       "fruitset    0.454725   0.561297  0.106571   0.294868   0.721153\n",
       "fruitmass   0.416281   0.476149  0.059869   0.326478   0.565952\n",
       "seeds      33.116091  39.239668  6.123577  23.930726  48.425033"
      ]
     },
     "execution_count": 11,
     "metadata": {},
     "output_type": "execute_result"
    }
   ],
   "source": [
    "df_iqr = df_berry[['fruitset', 'fruitmass', 'seeds']].apply(\n",
    "    lambda x: x.quantile([0.25, 0.75]).rename({0.25:'Q1', 0.75:'Q3'})\n",
    ").T.assign(\n",
    "    IQR = lambda x: x['Q3'] - x['Q1']\n",
    ").assign(\n",
    "    LB = lambda x: x['Q1'] - 1.5 * x['IQR'],\n",
    "    UB = lambda x: x['Q3'] + 1.5 * x['IQR']\n",
    ")\n",
    "df_iqr"
   ]
  },
  {
   "cell_type": "code",
   "execution_count": 15,
   "metadata": {},
   "outputs": [
    {
     "data": {
      "text/html": [
       "<div>\n",
       "<style scoped>\n",
       "    .dataframe tbody tr th:only-of-type {\n",
       "        vertical-align: middle;\n",
       "    }\n",
       "\n",
       "    .dataframe tbody tr th {\n",
       "        vertical-align: top;\n",
       "    }\n",
       "\n",
       "    .dataframe thead th {\n",
       "        text-align: right;\n",
       "    }\n",
       "</style>\n",
       "<table border=\"1\" class=\"dataframe\">\n",
       "  <thead>\n",
       "    <tr style=\"text-align: right;\">\n",
       "      <th></th>\n",
       "      <th>fruitset</th>\n",
       "      <th>fruitmass</th>\n",
       "      <th>seeds</th>\n",
       "    </tr>\n",
       "  </thead>\n",
       "  <tbody>\n",
       "    <tr>\n",
       "      <th>0</th>\n",
       "      <td>0.410652</td>\n",
       "      <td>0.408159</td>\n",
       "      <td>31.678898</td>\n",
       "    </tr>\n",
       "    <tr>\n",
       "      <th>1</th>\n",
       "      <td>0.444254</td>\n",
       "      <td>0.425458</td>\n",
       "      <td>33.449385</td>\n",
       "    </tr>\n",
       "    <tr>\n",
       "      <th>2</th>\n",
       "      <td>0.383787</td>\n",
       "      <td>0.399172</td>\n",
       "      <td>30.546306</td>\n",
       "    </tr>\n",
       "    <tr>\n",
       "      <th>3</th>\n",
       "      <td>0.407564</td>\n",
       "      <td>0.408789</td>\n",
       "      <td>31.562586</td>\n",
       "    </tr>\n",
       "    <tr>\n",
       "      <th>4</th>\n",
       "      <td>0.354413</td>\n",
       "      <td>0.382703</td>\n",
       "      <td>28.873714</td>\n",
       "    </tr>\n",
       "    <tr>\n",
       "      <th>...</th>\n",
       "      <td>...</td>\n",
       "      <td>...</td>\n",
       "      <td>...</td>\n",
       "    </tr>\n",
       "    <tr>\n",
       "      <th>772</th>\n",
       "      <td>0.486815</td>\n",
       "      <td>0.428012</td>\n",
       "      <td>33.447471</td>\n",
       "    </tr>\n",
       "    <tr>\n",
       "      <th>773</th>\n",
       "      <td>0.342841</td>\n",
       "      <td>0.377915</td>\n",
       "      <td>28.462005</td>\n",
       "    </tr>\n",
       "    <tr>\n",
       "      <th>774</th>\n",
       "      <td>0.404617</td>\n",
       "      <td>0.401670</td>\n",
       "      <td>30.748240</td>\n",
       "    </tr>\n",
       "    <tr>\n",
       "      <th>775</th>\n",
       "      <td>0.401538</td>\n",
       "      <td>0.399935</td>\n",
       "      <td>30.582161</td>\n",
       "    </tr>\n",
       "    <tr>\n",
       "      <th>776</th>\n",
       "      <td>0.384646</td>\n",
       "      <td>0.392303</td>\n",
       "      <td>29.742583</td>\n",
       "    </tr>\n",
       "  </tbody>\n",
       "</table>\n",
       "<p>777 rows × 3 columns</p>\n",
       "</div>"
      ],
      "text/plain": [
       "     fruitset  fruitmass      seeds\n",
       "0    0.410652   0.408159  31.678898\n",
       "1    0.444254   0.425458  33.449385\n",
       "2    0.383787   0.399172  30.546306\n",
       "3    0.407564   0.408789  31.562586\n",
       "4    0.354413   0.382703  28.873714\n",
       "..        ...        ...        ...\n",
       "772  0.486815   0.428012  33.447471\n",
       "773  0.342841   0.377915  28.462005\n",
       "774  0.404617   0.401670  30.748240\n",
       "775  0.401538   0.399935  30.582161\n",
       "776  0.384646   0.392303  29.742583\n",
       "\n",
       "[777 rows x 3 columns]"
      ]
     },
     "execution_count": 15,
     "metadata": {},
     "output_type": "execute_result"
    }
   ],
   "source": [
    "df_berry[['fruitset','fruitmass','seeds']]"
   ]
  },
  {
   "cell_type": "code",
   "execution_count": 22,
   "metadata": {},
   "outputs": [
    {
     "data": {
      "text/html": [
       "<div>\n",
       "<style scoped>\n",
       "    .dataframe tbody tr th:only-of-type {\n",
       "        vertical-align: middle;\n",
       "    }\n",
       "\n",
       "    .dataframe tbody tr th {\n",
       "        vertical-align: top;\n",
       "    }\n",
       "\n",
       "    .dataframe thead th {\n",
       "        text-align: right;\n",
       "    }\n",
       "</style>\n",
       "<table border=\"1\" class=\"dataframe\">\n",
       "  <thead>\n",
       "    <tr style=\"text-align: right;\">\n",
       "      <th></th>\n",
       "      <th>fruitset</th>\n",
       "      <th>fruitmass</th>\n",
       "      <th>seeds</th>\n",
       "    </tr>\n",
       "  </thead>\n",
       "  <tbody>\n",
       "    <tr>\n",
       "      <th>0</th>\n",
       "      <td>False</td>\n",
       "      <td>False</td>\n",
       "      <td>False</td>\n",
       "    </tr>\n",
       "    <tr>\n",
       "      <th>1</th>\n",
       "      <td>False</td>\n",
       "      <td>False</td>\n",
       "      <td>False</td>\n",
       "    </tr>\n",
       "    <tr>\n",
       "      <th>2</th>\n",
       "      <td>False</td>\n",
       "      <td>False</td>\n",
       "      <td>False</td>\n",
       "    </tr>\n",
       "    <tr>\n",
       "      <th>3</th>\n",
       "      <td>False</td>\n",
       "      <td>False</td>\n",
       "      <td>False</td>\n",
       "    </tr>\n",
       "    <tr>\n",
       "      <th>4</th>\n",
       "      <td>False</td>\n",
       "      <td>False</td>\n",
       "      <td>False</td>\n",
       "    </tr>\n",
       "    <tr>\n",
       "      <th>5</th>\n",
       "      <td>False</td>\n",
       "      <td>False</td>\n",
       "      <td>False</td>\n",
       "    </tr>\n",
       "    <tr>\n",
       "      <th>6</th>\n",
       "      <td>True</td>\n",
       "      <td>False</td>\n",
       "      <td>False</td>\n",
       "    </tr>\n",
       "    <tr>\n",
       "      <th>7</th>\n",
       "      <td>True</td>\n",
       "      <td>False</td>\n",
       "      <td>False</td>\n",
       "    </tr>\n",
       "    <tr>\n",
       "      <th>8</th>\n",
       "      <td>False</td>\n",
       "      <td>False</td>\n",
       "      <td>False</td>\n",
       "    </tr>\n",
       "    <tr>\n",
       "      <th>9</th>\n",
       "      <td>False</td>\n",
       "      <td>False</td>\n",
       "      <td>False</td>\n",
       "    </tr>\n",
       "  </tbody>\n",
       "</table>\n",
       "</div>"
      ],
      "text/plain": [
       "   fruitset  fruitmass  seeds\n",
       "0     False      False  False\n",
       "1     False      False  False\n",
       "2     False      False  False\n",
       "3     False      False  False\n",
       "4     False      False  False\n",
       "5     False      False  False\n",
       "6      True      False  False\n",
       "7      True      False  False\n",
       "8     False      False  False\n",
       "9     False      False  False"
      ]
     },
     "execution_count": 22,
     "metadata": {},
     "output_type": "execute_result"
    }
   ],
   "source": [
    "df_is_outlier = df_berry[['fruitset','fruitmass','seeds']].apply(\n",
    "    lambda x: (x < df_iqr.loc[x.name, 'LB']) | (x > df_iqr.loc[x.name, 'UB'])\n",
    ")\n",
    "df_is_outlier.head(10)"
   ]
  },
  {
   "cell_type": "code",
   "execution_count": 30,
   "metadata": {},
   "outputs": [
    {
     "data": {
      "text/html": [
       "<div>\n",
       "<style scoped>\n",
       "    .dataframe tbody tr th:only-of-type {\n",
       "        vertical-align: middle;\n",
       "    }\n",
       "\n",
       "    .dataframe tbody tr th {\n",
       "        vertical-align: top;\n",
       "    }\n",
       "\n",
       "    .dataframe thead th {\n",
       "        text-align: right;\n",
       "    }\n",
       "</style>\n",
       "<table border=\"1\" class=\"dataframe\">\n",
       "  <thead>\n",
       "    <tr style=\"text-align: right;\">\n",
       "      <th></th>\n",
       "      <th>fruitset</th>\n",
       "      <th>fruitmass</th>\n",
       "      <th>seeds</th>\n",
       "    </tr>\n",
       "  </thead>\n",
       "  <tbody>\n",
       "    <tr>\n",
       "      <th>6</th>\n",
       "      <td>0.284443</td>\n",
       "      <td>0.352186</td>\n",
       "      <td>26.101179</td>\n",
       "    </tr>\n",
       "    <tr>\n",
       "      <th>7</th>\n",
       "      <td>0.246568</td>\n",
       "      <td>0.342826</td>\n",
       "      <td>25.042361</td>\n",
       "    </tr>\n",
       "    <tr>\n",
       "      <th>16</th>\n",
       "      <td>0.288159</td>\n",
       "      <td>0.359459</td>\n",
       "      <td>26.487322</td>\n",
       "    </tr>\n",
       "    <tr>\n",
       "      <th>17</th>\n",
       "      <td>0.279536</td>\n",
       "      <td>0.354415</td>\n",
       "      <td>26.282356</td>\n",
       "    </tr>\n",
       "    <tr>\n",
       "      <th>18</th>\n",
       "      <td>0.233554</td>\n",
       "      <td>0.335339</td>\n",
       "      <td>24.320627</td>\n",
       "    </tr>\n",
       "    <tr>\n",
       "      <th>32</th>\n",
       "      <td>0.262140</td>\n",
       "      <td>0.349354</td>\n",
       "      <td>25.433530</td>\n",
       "    </tr>\n",
       "    <tr>\n",
       "      <th>47</th>\n",
       "      <td>0.283055</td>\n",
       "      <td>0.355876</td>\n",
       "      <td>26.054692</td>\n",
       "    </tr>\n",
       "    <tr>\n",
       "      <th>766</th>\n",
       "      <td>0.192732</td>\n",
       "      <td>0.311921</td>\n",
       "      <td>22.079199</td>\n",
       "    </tr>\n",
       "    <tr>\n",
       "      <th>768</th>\n",
       "      <td>0.249335</td>\n",
       "      <td>0.320727</td>\n",
       "      <td>23.412776</td>\n",
       "    </tr>\n",
       "  </tbody>\n",
       "</table>\n",
       "</div>"
      ],
      "text/plain": [
       "     fruitset  fruitmass      seeds\n",
       "6    0.284443   0.352186  26.101179\n",
       "7    0.246568   0.342826  25.042361\n",
       "16   0.288159   0.359459  26.487322\n",
       "17   0.279536   0.354415  26.282356\n",
       "18   0.233554   0.335339  24.320627\n",
       "32   0.262140   0.349354  25.433530\n",
       "47   0.283055   0.355876  26.054692\n",
       "766  0.192732   0.311921  22.079199\n",
       "768  0.249335   0.320727  23.412776"
      ]
     },
     "execution_count": 30,
     "metadata": {},
     "output_type": "execute_result"
    }
   ],
   "source": [
    "df_berry.loc[df_is_outlier.any(axis=1), ['fruitset', 'fruitmass', 'seeds']]"
   ]
  },
  {
   "cell_type": "code",
   "execution_count": null,
   "metadata": {},
   "outputs": [],
   "source": [
    "# 이상치에 해당하는 인덱스로, 이상치를 제거한 DataFrame을 df_berry2로 지정합니다.\n",
    "df_berry2 = df_berry.drop(index=df_berry.loc[df_is_outlier.any(axis=1).index])"
   ]
  },
  {
   "cell_type": "markdown",
   "metadata": {},
   "source": [
    "- 범위 한정 (clipping)\n",
    "\n",
    "하한값을 벗어난 경우 하한값으로 대체하고\n",
    "\n",
    "상한값을 벗어난 경우 상한값으로 대체\n",
    "\n",
    "(pd.Series.clip 활용)"
   ]
  },
  {
   "cell_type": "markdown",
   "metadata": {},
   "source": [
    "##### Q5\n",
    "\n",
    "<div style=\"border: 1px solid #ddd; padding: 12px; margin-top: 10px;\">\n",
    "\n",
    "df_berry 셋의 fruitset, fruitmass, seeds 가\n",
    "\n",
    "각 변수별로 $Q_1$, $Q_3$, $IQR$을 구하여, 이상치 여부를 판별을 합니다.\n",
    "\n",
    "> $Q_1 - 1.5×IQR ≤X≤ Q_3 + 1.5×IQR$\n",
    "\n",
    "하한값을 벗어났을 경우 하한값으로 대체하고,\n",
    "\n",
    "상한값을 벗어났을 경우는 상한값으로 대체하여 df_berry3셋을 만듭니다.\n",
    "\n",
    "</div>"
   ]
  },
  {
   "cell_type": "code",
   "execution_count": 27,
   "metadata": {},
   "outputs": [
    {
     "data": {
      "text/html": [
       "<div>\n",
       "<style scoped>\n",
       "    .dataframe tbody tr th:only-of-type {\n",
       "        vertical-align: middle;\n",
       "    }\n",
       "\n",
       "    .dataframe tbody tr th {\n",
       "        vertical-align: top;\n",
       "    }\n",
       "\n",
       "    .dataframe thead th {\n",
       "        text-align: right;\n",
       "    }\n",
       "</style>\n",
       "<table border=\"1\" class=\"dataframe\">\n",
       "  <thead>\n",
       "    <tr style=\"text-align: right;\">\n",
       "      <th></th>\n",
       "      <th>Q1</th>\n",
       "      <th>Q3</th>\n",
       "      <th>IQR</th>\n",
       "      <th>LB</th>\n",
       "      <th>UB</th>\n",
       "    </tr>\n",
       "  </thead>\n",
       "  <tbody>\n",
       "    <tr>\n",
       "      <th>fruitset</th>\n",
       "      <td>0.454725</td>\n",
       "      <td>0.561297</td>\n",
       "      <td>0.106571</td>\n",
       "      <td>0.294868</td>\n",
       "      <td>0.721153</td>\n",
       "    </tr>\n",
       "    <tr>\n",
       "      <th>fruitmass</th>\n",
       "      <td>0.416281</td>\n",
       "      <td>0.476149</td>\n",
       "      <td>0.059869</td>\n",
       "      <td>0.326478</td>\n",
       "      <td>0.565952</td>\n",
       "    </tr>\n",
       "    <tr>\n",
       "      <th>seeds</th>\n",
       "      <td>33.116091</td>\n",
       "      <td>39.239668</td>\n",
       "      <td>6.123577</td>\n",
       "      <td>23.930726</td>\n",
       "      <td>48.425033</td>\n",
       "    </tr>\n",
       "  </tbody>\n",
       "</table>\n",
       "</div>"
      ],
      "text/plain": [
       "                  Q1         Q3       IQR         LB         UB\n",
       "fruitset    0.454725   0.561297  0.106571   0.294868   0.721153\n",
       "fruitmass   0.416281   0.476149  0.059869   0.326478   0.565952\n",
       "seeds      33.116091  39.239668  6.123577  23.930726  48.425033"
      ]
     },
     "execution_count": 27,
     "metadata": {},
     "output_type": "execute_result"
    }
   ],
   "source": [
    "df_iqr"
   ]
  },
  {
   "cell_type": "code",
   "execution_count": 32,
   "metadata": {},
   "outputs": [],
   "source": [
    "df_berry3 = df_berry.copy()"
   ]
  },
  {
   "cell_type": "code",
   "execution_count": 34,
   "metadata": {},
   "outputs": [],
   "source": [
    "df_berry3[['fruitset','fruitmass', 'seeds']] = df_berry3[['fruitset', 'fruitmass', 'seeds']].apply(\n",
    "    lambda x: x.clip(df_iqr.loc[x.name, 'LB'], df_iqr.loc[x.name, 'UB'])\n",
    ")"
   ]
  },
  {
   "cell_type": "code",
   "execution_count": 39,
   "metadata": {},
   "outputs": [
    {
     "data": {
      "text/plain": [
       "0      False\n",
       "1      False\n",
       "2      False\n",
       "3      False\n",
       "4      False\n",
       "       ...  \n",
       "772    False\n",
       "773    False\n",
       "774    False\n",
       "775    False\n",
       "776    False\n",
       "Length: 777, dtype: bool"
      ]
     },
     "execution_count": 39,
     "metadata": {},
     "output_type": "execute_result"
    }
   ],
   "source": [
    "df_is_outlier3 = df_berry3[['fruitset','fruitmass','seeds']].apply(\n",
    "    lambda x: (x < df_iqr.loc[x.name, 'LB']) | (x > df_iqr.loc[x.name, 'UB'])\n",
    ")"
   ]
  },
  {
   "cell_type": "code",
   "execution_count": 40,
   "metadata": {},
   "outputs": [
    {
     "data": {
      "text/html": [
       "<div>\n",
       "<style scoped>\n",
       "    .dataframe tbody tr th:only-of-type {\n",
       "        vertical-align: middle;\n",
       "    }\n",
       "\n",
       "    .dataframe tbody tr th {\n",
       "        vertical-align: top;\n",
       "    }\n",
       "\n",
       "    .dataframe thead th {\n",
       "        text-align: right;\n",
       "    }\n",
       "</style>\n",
       "<table border=\"1\" class=\"dataframe\">\n",
       "  <thead>\n",
       "    <tr style=\"text-align: right;\">\n",
       "      <th></th>\n",
       "      <th>fruitset</th>\n",
       "      <th>fruitmass</th>\n",
       "      <th>seeds</th>\n",
       "    </tr>\n",
       "  </thead>\n",
       "  <tbody>\n",
       "    <tr>\n",
       "      <th>0</th>\n",
       "      <td>False</td>\n",
       "      <td>False</td>\n",
       "      <td>False</td>\n",
       "    </tr>\n",
       "    <tr>\n",
       "      <th>1</th>\n",
       "      <td>False</td>\n",
       "      <td>False</td>\n",
       "      <td>False</td>\n",
       "    </tr>\n",
       "    <tr>\n",
       "      <th>2</th>\n",
       "      <td>False</td>\n",
       "      <td>False</td>\n",
       "      <td>False</td>\n",
       "    </tr>\n",
       "    <tr>\n",
       "      <th>3</th>\n",
       "      <td>False</td>\n",
       "      <td>False</td>\n",
       "      <td>False</td>\n",
       "    </tr>\n",
       "    <tr>\n",
       "      <th>4</th>\n",
       "      <td>False</td>\n",
       "      <td>False</td>\n",
       "      <td>False</td>\n",
       "    </tr>\n",
       "    <tr>\n",
       "      <th>...</th>\n",
       "      <td>...</td>\n",
       "      <td>...</td>\n",
       "      <td>...</td>\n",
       "    </tr>\n",
       "    <tr>\n",
       "      <th>772</th>\n",
       "      <td>False</td>\n",
       "      <td>False</td>\n",
       "      <td>False</td>\n",
       "    </tr>\n",
       "    <tr>\n",
       "      <th>773</th>\n",
       "      <td>False</td>\n",
       "      <td>False</td>\n",
       "      <td>False</td>\n",
       "    </tr>\n",
       "    <tr>\n",
       "      <th>774</th>\n",
       "      <td>False</td>\n",
       "      <td>False</td>\n",
       "      <td>False</td>\n",
       "    </tr>\n",
       "    <tr>\n",
       "      <th>775</th>\n",
       "      <td>False</td>\n",
       "      <td>False</td>\n",
       "      <td>False</td>\n",
       "    </tr>\n",
       "    <tr>\n",
       "      <th>776</th>\n",
       "      <td>False</td>\n",
       "      <td>False</td>\n",
       "      <td>False</td>\n",
       "    </tr>\n",
       "  </tbody>\n",
       "</table>\n",
       "<p>777 rows × 3 columns</p>\n",
       "</div>"
      ],
      "text/plain": [
       "     fruitset  fruitmass  seeds\n",
       "0       False      False  False\n",
       "1       False      False  False\n",
       "2       False      False  False\n",
       "3       False      False  False\n",
       "4       False      False  False\n",
       "..        ...        ...    ...\n",
       "772     False      False  False\n",
       "773     False      False  False\n",
       "774     False      False  False\n",
       "775     False      False  False\n",
       "776     False      False  False\n",
       "\n",
       "[777 rows x 3 columns]"
      ]
     },
     "execution_count": 40,
     "metadata": {},
     "output_type": "execute_result"
    }
   ],
   "source": [
    "df_is_outlier3"
   ]
  },
  {
   "cell_type": "code",
   "execution_count": 42,
   "metadata": {},
   "outputs": [
    {
     "data": {
      "text/plain": [
       "0"
      ]
     },
     "execution_count": 42,
     "metadata": {},
     "output_type": "execute_result"
    }
   ],
   "source": [
    "len(df_is_outlier3.loc[df_is_outlier3.any(axis=1)])"
   ]
  }
 ],
 "metadata": {
  "kernelspec": {
   "display_name": "Python 3",
   "language": "python",
   "name": "python3"
  },
  "language_info": {
   "codemirror_mode": {
    "name": "ipython",
    "version": 3
   },
   "file_extension": ".py",
   "mimetype": "text/x-python",
   "name": "python",
   "nbconvert_exporter": "python",
   "pygments_lexer": "ipython3",
   "version": "3.10.10"
  }
 },
 "nbformat": 4,
 "nbformat_minor": 2
}
